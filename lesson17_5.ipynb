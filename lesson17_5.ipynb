{
 "cells": [
  {
   "cell_type": "code",
   "execution_count": 2,
   "metadata": {},
   "outputs": [
    {
     "data": {
      "text/plain": [
       "0      68\n",
       "1      73\n",
       "2      88\n",
       "3      95\n",
       "4      77\n",
       "5      51\n",
       "6      70\n",
       "7      83\n",
       "8      63\n",
       "9      91\n",
       "10     78\n",
       "11     59\n",
       "12     85\n",
       "13     61\n",
       "14     71\n",
       "15     94\n",
       "16     84\n",
       "17     71\n",
       "18     52\n",
       "19     78\n",
       "20     57\n",
       "21     77\n",
       "22     95\n",
       "23     51\n",
       "24     82\n",
       "25     61\n",
       "26     78\n",
       "27    100\n",
       "28     51\n",
       "29     86\n",
       "30     75\n",
       "31     75\n",
       "32     78\n",
       "33     60\n",
       "34     50\n",
       "35     75\n",
       "36     50\n",
       "37     87\n",
       "38     98\n",
       "39     63\n",
       "40     55\n",
       "41     68\n",
       "42     55\n",
       "43     77\n",
       "44     88\n",
       "45     75\n",
       "46     74\n",
       "47     96\n",
       "48     64\n",
       "49     97\n",
       "Name: 國文, dtype: int64"
      ]
     },
     "execution_count": 2,
     "metadata": {},
     "output_type": "execute_result"
    }
   ],
   "source": [
    "import pandas as pd \n",
    "df = pd.read_csv('學生成績.csv')\n",
    "\n",
    "#使用subscript搜尋Series值\n",
    "\n",
    "chinese_s = df[\"國文\"]\n",
    "chinese_s"
   ]
  },
  {
   "cell_type": "code",
   "execution_count": 4,
   "metadata": {},
   "outputs": [
    {
     "data": {
      "text/plain": [
       "0      68\n",
       "1      73\n",
       "2      88\n",
       "3      95\n",
       "4      77\n",
       "6      70\n",
       "7      83\n",
       "8      63\n",
       "9      91\n",
       "10     78\n",
       "12     85\n",
       "13     61\n",
       "14     71\n",
       "15     94\n",
       "16     84\n",
       "17     71\n",
       "19     78\n",
       "21     77\n",
       "22     95\n",
       "24     82\n",
       "25     61\n",
       "26     78\n",
       "27    100\n",
       "29     86\n",
       "30     75\n",
       "31     75\n",
       "32     78\n",
       "33     60\n",
       "35     75\n",
       "37     87\n",
       "38     98\n",
       "39     63\n",
       "41     68\n",
       "43     77\n",
       "44     88\n",
       "45     75\n",
       "46     74\n",
       "47     96\n",
       "48     64\n",
       "49     97\n",
       "Name: 國文, dtype: int64"
      ]
     },
     "execution_count": 4,
     "metadata": {},
     "output_type": "execute_result"
    }
   ],
   "source": [
    "chinese_s >= 60\n",
    "chinese_s[chinese_s >= 60]"
   ]
  },
  {
   "cell_type": "code",
   "execution_count": 5,
   "metadata": {},
   "outputs": [
    {
     "data": {
      "text/plain": [
       "2     59\n",
       "3     52\n",
       "7     53\n",
       "8     54\n",
       "9     53\n",
       "16    57\n",
       "19    51\n",
       "22    52\n",
       "25    58\n",
       "27    57\n",
       "29    59\n",
       "31    58\n",
       "Name: 數學, dtype: int64"
      ]
     },
     "execution_count": 5,
     "metadata": {},
     "output_type": "execute_result"
    }
   ],
   "source": [
    "math_s = df[\"數學\"]\n",
    "math_s[math_s < 60]"
   ]
  }
 ],
 "metadata": {
  "kernelspec": {
   "display_name": "Python 3",
   "language": "python",
   "name": "python3"
  },
  "language_info": {
   "codemirror_mode": {
    "name": "ipython",
    "version": 3
   },
   "file_extension": ".py",
   "mimetype": "text/x-python",
   "name": "python",
   "nbconvert_exporter": "python",
   "pygments_lexer": "ipython3",
   "version": "3.10.13"
  }
 },
 "nbformat": 4,
 "nbformat_minor": 2
}
