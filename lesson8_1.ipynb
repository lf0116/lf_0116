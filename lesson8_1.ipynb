{
 "cells": [
  {
   "cell_type": "code",
   "execution_count": 1,
   "metadata": {},
   "outputs": [
    {
     "name": "stdout",
     "output_type": "stream",
     "text": [
      "Hello!\n",
      "World!\n"
     ]
    }
   ],
   "source": [
    "greeting = ('Hello!World!')\n",
    "print(greeting[:6])\n",
    "print(greeting[-6:])"
   ]
  },
  {
   "cell_type": "code",
   "execution_count": 2,
   "metadata": {},
   "outputs": [
    {
     "data": {
      "text/plain": [
       "('Hello!', 'World!')"
      ]
     },
     "execution_count": 2,
     "metadata": {},
     "output_type": "execute_result"
    }
   ],
   "source": [
    "greeting = 'Hello!World!'\n",
    "greeting[:6],greeting[-6:]"
   ]
  },
  {
   "cell_type": "code",
   "execution_count": 5,
   "metadata": {},
   "outputs": [
    {
     "data": {
      "text/plain": [
       "str"
      ]
     },
     "metadata": {},
     "output_type": "display_data"
    },
    {
     "data": {
      "text/plain": [
       "'Taipei'"
      ]
     },
     "execution_count": 5,
     "metadata": {},
     "output_type": "execute_result"
    }
   ],
   "source": [
    "city = 'taipei'\n",
    "display(type(city))\n",
    "city = city.capitalize() #capitalize()是str實體的方法之一\n",
    "\n",
    "#city 依舊儲存著taipei而非Taipei，所以要讓變數接收這個變化\n",
    "\n",
    "city"
   ]
  },
  {
   "cell_type": "code",
   "execution_count": 6,
   "metadata": {},
   "outputs": [
    {
     "data": {
      "text/plain": [
       "'Penny'"
      ]
     },
     "execution_count": 6,
     "metadata": {},
     "output_type": "execute_result"
    }
   ],
   "source": [
    "name = 'Henny'\n",
    "name = name.replace(\"H\",\"P\")\n",
    "name"
   ]
  },
  {
   "cell_type": "code",
   "execution_count": 7,
   "metadata": {},
   "outputs": [
    {
     "data": {
      "text/plain": [
       "'Penny'"
      ]
     },
     "execution_count": 7,
     "metadata": {},
     "output_type": "execute_result"
    }
   ],
   "source": [
    "name = 'Henny'\n",
    "name = \"P\" + name[1:]\n",
    "name"
   ]
  },
  {
   "cell_type": "code",
   "execution_count": 12,
   "metadata": {},
   "outputs": [
    {
     "data": {
      "text/plain": [
       "8"
      ]
     },
     "metadata": {},
     "output_type": "display_data"
    },
    {
     "data": {
      "text/plain": [
       "-1"
      ]
     },
     "execution_count": 12,
     "metadata": {},
     "output_type": "execute_result"
    }
   ],
   "source": [
    "#str.find\n",
    "\n",
    "str1 = \"this is Python Tutorial, there\"\n",
    "\n",
    "display(str1.find(\"Python\"))\n",
    "str1.find(\"not\")"
   ]
  },
  {
   "cell_type": "code",
   "execution_count": 10,
   "metadata": {},
   "outputs": [
    {
     "data": {
      "text/plain": [
       "'a-b-c-d-e'"
      ]
     },
     "execution_count": 10,
     "metadata": {},
     "output_type": "execute_result"
    }
   ],
   "source": [
    "#str.join\n",
    "str1 = \"-\"\n",
    "\"-\".join(\"abcde\")"
   ]
  },
  {
   "cell_type": "code",
   "execution_count": 11,
   "metadata": {},
   "outputs": [
    {
     "data": {
      "text/plain": [
       "['python', 'java', 'c++', 'ruby']"
      ]
     },
     "execution_count": 11,
     "metadata": {},
     "output_type": "execute_result"
    }
   ],
   "source": [
    "#str.split\n",
    "str2 = \"python-java-c++-ruby\"\n",
    "str2.split(sep = \"-\")"
   ]
  },
  {
   "cell_type": "code",
   "execution_count": 15,
   "metadata": {},
   "outputs": [
    {
     "name": "stdout",
     "output_type": "stream",
     "text": [
      "請輸入age:\n",
      "您的age:18\n"
     ]
    }
   ],
   "source": [
    "print(\"請輸入age:\")\n",
    "age = input(\"請輸入age:\")\n",
    "\n",
    "if not age.isdigit():\n",
    "    print(\"輸入錯誤\")\n",
    "else :\n",
    "    print(f\"您的age:{age}\")"
   ]
  },
  {
   "cell_type": "code",
   "execution_count": 17,
   "metadata": {},
   "outputs": [
    {
     "name": "stdout",
     "output_type": "stream",
     "text": [
      "               hello\n",
      "hello               \n",
      "-------hello--------\n"
     ]
    }
   ],
   "source": [
    "print('hello'.rjust(20))\n",
    "print('hello'.ljust(20))\n",
    "print('hello'.center(20,\"-\"))"
   ]
  },
  {
   "cell_type": "code",
   "execution_count": 19,
   "metadata": {},
   "outputs": [
    {
     "name": "stdout",
     "output_type": "stream",
     "text": [
      "---------早餐---------\n",
      "三明治............   25\n",
      "火腿蛋............   30\n"
     ]
    }
   ],
   "source": [
    "print('早餐'.center(20,'-'))\n",
    "print('三明治'.ljust(15,'.') + '25'.rjust(5))\n",
    "print('火腿蛋'.ljust(15,'.') + '30'.rjust(5))"
   ]
  },
  {
   "cell_type": "code",
   "execution_count": 20,
   "metadata": {},
   "outputs": [
    {
     "name": "stdout",
     "output_type": "stream",
     "text": [
      "您的手機號碼是：0922-109-050\n"
     ]
    }
   ],
   "source": [
    "#檢查台灣手機號碼輸入格式(xxxx-xxx-xxx)\n",
    "\n",
    "def isPhoneNumber(text:str) -> bool:\n",
    "    if len(text) !=12:\n",
    "        return False\n",
    "    elif not text[:4].isdigit():\n",
    "        return False\n",
    "    elif text[4] != \"-\":\n",
    "        return False\n",
    "    elif not text[5:8].isdigit():\n",
    "        return False\n",
    "    elif text[8] != \"-\":\n",
    "        return False\n",
    "    elif not text[-3:].isdigit():\n",
    "        return False\n",
    "    return True\n",
    "\n",
    "phone_num = input(\"請輸入手機號碼xxxx-xxx-xxx：\")\n",
    "if isPhoneNumber(phone_num):\n",
    "    print(f\"您的手機號碼是：{phone_num}\")\n",
    "else:\n",
    "    print(f\"您的手機號碼是：{phone_num}，格式有錯\")"
   ]
  },
  {
   "cell_type": "code",
   "execution_count": 21,
   "metadata": {},
   "outputs": [
    {
     "name": "stdout",
     "output_type": "stream",
     "text": [
      "您的手機號碼是：0922-109-050\n"
     ]
    }
   ],
   "source": [
    "#re應用->match success: 傳出match實體；fail:傳出None\n",
    "\n",
    "import re\n",
    "def isPhoneNumber(text:str) -> bool:\n",
    "    phoneNumberRegex = re.compile(r'\\d\\d\\d\\d-\\d\\d\\d-\\d\\d\\d') #正規則表達式符號\n",
    "    if phoneNumberRegex.match(text) is None:\n",
    "        return False\n",
    "    else:\n",
    "        return True\n",
    "    \n",
    "phone_num = input(\"請輸入手機號碼xxxx-xxx-xxx：\")\n",
    "if isPhoneNumber(phone_num):\n",
    "    print(f\"您的手機號碼是：{phone_num}\")\n",
    "else:\n",
    "    print(f\"您的手機號碼是：{phone_num}，格式有錯\")"
   ]
  },
  {
   "cell_type": "code",
   "execution_count": 24,
   "metadata": {},
   "outputs": [
    {
     "name": "stdout",
     "output_type": "stream",
     "text": [
      "您的電子郵件是：u112001050@gap.kmu.edu.tw\n"
     ]
    }
   ],
   "source": [
    "import re\n",
    "def isEmail(text:str) -> bool:\n",
    "    EmailRegex = re.compile(r'^\\w+((-\\w+)|(\\.\\w+))*\\@[A-Za-z0-9]+((\\.|-)[A-Za-z0-9]+)*\\.[A-Za-z]+$') #正規則表達式符號\n",
    "    if EmailRegex.match(text) is None:\n",
    "        return False\n",
    "    else:\n",
    "        return True\n",
    "    \n",
    "email = input(\"請輸入電子郵件：\")\n",
    "if isEmail(email):\n",
    "    print(f\"您的電子郵件是：{email}\")\n",
    "else:\n",
    "    print(f\"您的電子郵件是：{email}，格式有錯\")"
   ]
  }
 ],
 "metadata": {
  "kernelspec": {
   "display_name": "Python 3",
   "language": "python",
   "name": "python3"
  },
  "language_info": {
   "codemirror_mode": {
    "name": "ipython",
    "version": 3
   },
   "file_extension": ".py",
   "mimetype": "text/x-python",
   "name": "python",
   "nbconvert_exporter": "python",
   "pygments_lexer": "ipython3",
   "version": "3.10.12"
  },
  "orig_nbformat": 4
 },
 "nbformat": 4,
 "nbformat_minor": 2
}
