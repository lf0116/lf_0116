{
 "cells": [
  {
   "cell_type": "code",
   "execution_count": 14,
   "metadata": {},
   "outputs": [
    {
     "data": {
      "text/plain": [
       "2"
      ]
     },
     "execution_count": 14,
     "metadata": {},
     "output_type": "execute_result"
    }
   ],
   "source": [
    "import random\n",
    "#0~4的亂數\n",
    "\n",
    "random.randrange(5)"
   ]
  },
  {
   "cell_type": "code",
   "execution_count": 34,
   "metadata": {},
   "outputs": [
    {
     "data": {
      "text/plain": [
       "4"
      ]
     },
     "execution_count": 34,
     "metadata": {},
     "output_type": "execute_result"
    }
   ],
   "source": [
    "random.randrange(3,5)"
   ]
  },
  {
   "cell_type": "code",
   "execution_count": 26,
   "metadata": {},
   "outputs": [
    {
     "data": {
      "text/plain": [
       "10"
      ]
     },
     "execution_count": 26,
     "metadata": {},
     "output_type": "execute_result"
    }
   ],
   "source": [
    "random.randint(1,10)"
   ]
  },
  {
   "cell_type": "code",
   "execution_count": 36,
   "metadata": {},
   "outputs": [
    {
     "name": "stdout",
     "output_type": "stream",
     "text": [
      "===========猜數字遊戲===========\n",
      "猜錯了\n",
      "您已經猜了1次\n",
      "猜錯了\n",
      "您已經猜了2次\n",
      "賓果！你猜對了！答案是9\n",
      "您一共猜了3次\n",
      "GAME OVER!\n"
     ]
    }
   ],
   "source": [
    "import random\n",
    "min = 1\n",
    "max = 10\n",
    "target = random.randint(1,10)\n",
    "count = 0\n",
    "\n",
    "print(\"===========猜數字遊戲===========\")\n",
    "while True:\n",
    "    key_in = int(input(f\"猜數字的範圍：{min}~{max}\"))\n",
    "    count += 1\n",
    "\n",
    "    if key_in >= min and key_in <= max:\n",
    "        if key_in == target:\n",
    "            print(f\"賓果！你猜對了！答案是{key_in}\")\n",
    "            print(f\"您一共猜了{count}次\")\n",
    "            break\n",
    "        else:\n",
    "            print(\"猜錯了\")\n",
    "            print(f\"您已經猜了{count}次\")\n",
    "    else:\n",
    "        print(\"超出範圍\")\n",
    "print(\"GAME OVER!\")"
   ]
  },
  {
   "cell_type": "code",
   "execution_count": 38,
   "metadata": {},
   "outputs": [
    {
     "name": "stdout",
     "output_type": "stream",
     "text": [
      "===========猜數字遊戲===========\n",
      "\n",
      "\n",
      "猜錯了,再大一點\n",
      "您已經猜了1次\n",
      "猜錯了,再小一點\n",
      "您已經猜了2次\n",
      "猜錯了,再大一點\n",
      "您已經猜了3次\n",
      "猜錯了,再大一點\n",
      "您已經猜了4次\n",
      "猜錯了,再小一點\n",
      "您已經猜了5次\n",
      "猜錯了,再小一點\n",
      "您已經猜了6次\n",
      "猜錯了,再大一點\n",
      "您已經猜了7次\n",
      "猜錯了,再大一點\n",
      "您已經猜了8次\n",
      "賓果！你猜對了！答案是89\n",
      "您一共猜了9次\n",
      "GAME OVER!\n"
     ]
    }
   ],
   "source": [
    "import random\n",
    "min = 1\n",
    "max = 100\n",
    "target = random.randint(min,max)\n",
    "count = 0\n",
    "\n",
    "print(\"===========猜數字遊戲===========\\n\\n\")\n",
    "while True:\n",
    "    key_in = int(input(f\"猜數字的範圍：{min}~{max}:\"))\n",
    "    count += 1\n",
    "\n",
    "    if key_in >= min and key_in <= max:\n",
    "        if key_in == target:\n",
    "            print(f\"賓果！你猜對了！答案是{key_in}\")\n",
    "            print(f\"您一共猜了{count}次\")\n",
    "            break\n",
    "        elif key_in > target:\n",
    "            print(\"猜錯了,再小一點\")\n",
    "            max = key_in -1\n",
    "            print(f\"您已經猜了{count}次\")\n",
    "        elif key_in < target:\n",
    "            print(\"猜錯了,再大一點\")\n",
    "            min = key_in +1\n",
    "            print(f\"您已經猜了{count}次\")\n",
    "    else:\n",
    "        print(\"超出範圍\")\n",
    "print(\"GAME OVER!\")"
   ]
  }
 ],
 "metadata": {
  "kernelspec": {
   "display_name": "Python 3",
   "language": "python",
   "name": "python3"
  },
  "language_info": {
   "codemirror_mode": {
    "name": "ipython",
    "version": 3
   },
   "file_extension": ".py",
   "mimetype": "text/x-python",
   "name": "python",
   "nbconvert_exporter": "python",
   "pygments_lexer": "ipython3",
   "version": "3.10.12"
  },
  "orig_nbformat": 4
 },
 "nbformat": 4,
 "nbformat_minor": 2
}
