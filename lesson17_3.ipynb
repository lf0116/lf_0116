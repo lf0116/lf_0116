{
 "cells": [
  {
   "cell_type": "code",
   "execution_count": 4,
   "metadata": {},
   "outputs": [
    {
     "data": {
      "text/plain": [
       "0     陳信念\n",
       "1     林昱芳\n",
       "2     周家銘\n",
       "3     林清英\n",
       "4     林群清\n",
       "5     黃政甫\n",
       "6     張俊傑\n",
       "7     李美洋\n",
       "8     葉志峰\n",
       "9     李彥伸\n",
       "10    黃佩玲\n",
       "11    李美洋\n",
       "12    劉慧君\n",
       "13    黃江旭\n",
       "14    林思賢\n",
       "15    林清英\n",
       "16    鄭淑珍\n",
       "17    陳淑娟\n",
       "18    楊易政\n",
       "19    沈心利\n",
       "20    陳建豪\n",
       "21    林建宏\n",
       "22    趙家豪\n",
       "23    詹忠光\n",
       "24    吳孟穎\n",
       "25    謝哲維\n",
       "26    張天亨\n",
       "27    林建宏\n",
       "28    朱彥志\n",
       "29    柯宜臻\n",
       "30    楊火帆\n",
       "31    白美珍\n",
       "32    黃柏宇\n",
       "33    高智超\n",
       "34    聶心怡\n",
       "35    蔡至剛\n",
       "36    吳振瑋\n",
       "37    黎惠雯\n",
       "38    胡姿婷\n",
       "39    郭淑真\n",
       "40    王惠皓\n",
       "41    唐翊修\n",
       "42    賴心怡\n",
       "43    李政白\n",
       "44    林清英\n",
       "45    蕭淑華\n",
       "46    陳美惠\n",
       "47    張凡成\n",
       "48    姜琬婷\n",
       "49    翁均安\n",
       "Name: 姓名, dtype: object"
      ]
     },
     "execution_count": 4,
     "metadata": {},
     "output_type": "execute_result"
    }
   ],
   "source": [
    "import pandas as pd \n",
    "df = pd.read_csv('學生成績.csv')\n",
    "#dataframe的subscript\n",
    "name_s = df[\"姓名\"]\n",
    "name_s"
   ]
  },
  {
   "cell_type": "code",
   "execution_count": 6,
   "metadata": {},
   "outputs": [
    {
     "data": {
      "text/plain": [
       "0     陳信念\n",
       "1     林昱芳\n",
       "2     周家銘\n",
       "3     林清英\n",
       "4     林群清\n",
       "5     黃政甫\n",
       "6     張俊傑\n",
       "7     李美洋\n",
       "8     葉志峰\n",
       "9     李彥伸\n",
       "10    黃佩玲\n",
       "11    李美洋\n",
       "12    劉慧君\n",
       "13    黃江旭\n",
       "14    林思賢\n",
       "15    林清英\n",
       "16    鄭淑珍\n",
       "17    陳淑娟\n",
       "18    楊易政\n",
       "19    沈心利\n",
       "20    陳建豪\n",
       "21    林建宏\n",
       "22    趙家豪\n",
       "23    詹忠光\n",
       "24    吳孟穎\n",
       "25    謝哲維\n",
       "26    張天亨\n",
       "27    林建宏\n",
       "28    朱彥志\n",
       "29    柯宜臻\n",
       "30    楊火帆\n",
       "31    白美珍\n",
       "32    黃柏宇\n",
       "33    高智超\n",
       "34    聶心怡\n",
       "35    蔡至剛\n",
       "36    吳振瑋\n",
       "37    黎惠雯\n",
       "38    胡姿婷\n",
       "39    郭淑真\n",
       "40    王惠皓\n",
       "41    唐翊修\n",
       "42    賴心怡\n",
       "43    李政白\n",
       "44    林清英\n",
       "45    蕭淑華\n",
       "46    陳美惠\n",
       "47    張凡成\n",
       "48    姜琬婷\n",
       "49    翁均安\n",
       "Name: 姓名, dtype: object"
      ]
     },
     "metadata": {},
     "output_type": "display_data"
    },
    {
     "data": {
      "text/plain": [
       "'陳信念'"
      ]
     },
     "metadata": {},
     "output_type": "display_data"
    },
    {
     "name": "stdout",
     "output_type": "stream",
     "text": [
      "============\n"
     ]
    },
    {
     "data": {
      "text/plain": [
       "0    陳信念\n",
       "1    林昱芳\n",
       "2    周家銘\n",
       "Name: 姓名, dtype: object"
      ]
     },
     "metadata": {},
     "output_type": "display_data"
    },
    {
     "name": "stdout",
     "output_type": "stream",
     "text": [
      "============\n"
     ]
    },
    {
     "data": {
      "text/plain": [
       "0     陳信念\n",
       "1     林昱芳\n",
       "2     周家銘\n",
       "3     林清英\n",
       "4     林群清\n",
       "5     黃政甫\n",
       "6     張俊傑\n",
       "7     李美洋\n",
       "8     葉志峰\n",
       "9     李彥伸\n",
       "10    黃佩玲\n",
       "11    李美洋\n",
       "12    劉慧君\n",
       "13    黃江旭\n",
       "14    林思賢\n",
       "15    林清英\n",
       "16    鄭淑珍\n",
       "17    陳淑娟\n",
       "18    楊易政\n",
       "19    沈心利\n",
       "20    陳建豪\n",
       "21    林建宏\n",
       "22    趙家豪\n",
       "23    詹忠光\n",
       "24    吳孟穎\n",
       "25    謝哲維\n",
       "26    張天亨\n",
       "27    林建宏\n",
       "28    朱彥志\n",
       "29    柯宜臻\n",
       "30    楊火帆\n",
       "31    白美珍\n",
       "32    黃柏宇\n",
       "33    高智超\n",
       "34    聶心怡\n",
       "35    蔡至剛\n",
       "36    吳振瑋\n",
       "37    黎惠雯\n",
       "38    胡姿婷\n",
       "39    郭淑真\n",
       "40    王惠皓\n",
       "41    唐翊修\n",
       "42    賴心怡\n",
       "43    李政白\n",
       "44    林清英\n",
       "45    蕭淑華\n",
       "46    陳美惠\n",
       "Name: 姓名, dtype: object"
      ]
     },
     "metadata": {},
     "output_type": "display_data"
    },
    {
     "name": "stdout",
     "output_type": "stream",
     "text": [
      "============\n"
     ]
    },
    {
     "data": {
      "text/plain": [
       "0    陳信念\n",
       "5    黃政甫\n",
       "8    葉志峰\n",
       "Name: 姓名, dtype: object"
      ]
     },
     "metadata": {},
     "output_type": "display_data"
    }
   ],
   "source": [
    "#Series subscript\n",
    "\n",
    "display(name_s)\n",
    "display(name_s[0])\n",
    "print(\"============\")\n",
    "display(name_s[:3])\n",
    "print(\"============\")\n",
    "display(name_s[:-3])\n",
    "print(\"============\")\n",
    "display(name_s[[0,5,8]])"
   ]
  }
 ],
 "metadata": {
  "kernelspec": {
   "display_name": "Python 3",
   "language": "python",
   "name": "python3"
  },
  "language_info": {
   "codemirror_mode": {
    "name": "ipython",
    "version": 3
   },
   "file_extension": ".py",
   "mimetype": "text/x-python",
   "name": "python",
   "nbconvert_exporter": "python",
   "pygments_lexer": "ipython3",
   "version": "3.10.13"
  }
 },
 "nbformat": 4,
 "nbformat_minor": 2
}
