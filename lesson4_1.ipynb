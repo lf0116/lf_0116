{
 "cells": [
  {
   "cell_type": "code",
   "execution_count": 1,
   "metadata": {},
   "outputs": [
    {
     "name": "stdout",
     "output_type": "stream",
     "text": [
      "您的年紀是\n",
      "18\n",
      "程式結束\n"
     ]
    }
   ],
   "source": [
    "#if:單項選擇\n",
    "\n",
    "a = 21\n",
    "if a>18:\n",
    "    print(\"您的年紀是\")\n",
    "    print(\"18\")\n",
    "\n",
    "print(\"程式結束\")\n",
    "\n",
    "#python的對齊非常重要，尤其首排不能隨便縮排！"
   ]
  },
  {
   "cell_type": "code",
   "execution_count": 6,
   "metadata": {},
   "outputs": [
    {
     "name": "stdout",
     "output_type": "stream",
     "text": [
      "輸入錯誤，學生分數不可以大於300\n"
     ]
    }
   ],
   "source": [
    "#學生總分為300\n",
    "#有些學生可以加5%\n",
    "#如果分數超過300，以300為準\n",
    "\n",
    "score = int(input(\"請輸入學生分數(最高300分)：\"))\n",
    "if score <= 300:\n",
    "    is_add = input(\"學生是否符合加分條件？(y,n)\")\n",
    "\n",
    "    if(is_add == \"y\"):  \n",
    "        score *= 1.05\n",
    "        if score > 300:\n",
    "            score = 300\n",
    "\n",
    "    print(f\"學生分數是{round(score)}\")\n",
    "else:\n",
    "    print(\"輸入錯誤，學生分數不可以大於300\")\n",
    "\n",
    "#if()和if後空一格是一樣的意思。"
   ]
  },
  {
   "cell_type": "code",
   "execution_count": 5,
   "metadata": {},
   "outputs": [
    {
     "name": "stdout",
     "output_type": "stream",
     "text": [
      "及格\n"
     ]
    }
   ],
   "source": [
    "score = int(input(\"請輸入學生分數(0~100)：\"))\n",
    "if score >= 60:\n",
    "    print(\"及格\")\n",
    "else:\n",
    "    print(\"不及格\")"
   ]
  }
 ],
 "metadata": {
  "kernelspec": {
   "display_name": "Python 3",
   "language": "python",
   "name": "python3"
  },
  "language_info": {
   "codemirror_mode": {
    "name": "ipython",
    "version": 3
   },
   "file_extension": ".py",
   "mimetype": "text/x-python",
   "name": "python",
   "nbconvert_exporter": "python",
   "pygments_lexer": "ipython3",
   "version": "3.10.12"
  },
  "orig_nbformat": 4
 },
 "nbformat": 4,
 "nbformat_minor": 2
}
