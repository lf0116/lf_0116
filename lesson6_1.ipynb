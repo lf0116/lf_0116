{
 "cells": [
  {
   "cell_type": "code",
   "execution_count": 2,
   "metadata": {},
   "outputs": [
    {
     "name": "stdout",
     "output_type": "stream",
     "text": [
      "1\n",
      "2\n",
      "3\n",
      "4\n",
      "5\n",
      "程式結束\n"
     ]
    }
   ],
   "source": [
    "#執行5次\n",
    "#列印出1~5\n",
    "#while（明確知道執行次數）\n",
    "\n",
    "count = 1\n",
    "while count <= 5:\n",
    "    print (count)\n",
    "    count += 1\n",
    "\n",
    "print(\"程式結束\")"
   ]
  },
  {
   "cell_type": "code",
   "execution_count": 4,
   "metadata": {},
   "outputs": [
    {
     "name": "stdout",
     "output_type": "stream",
     "text": [
      "1 2 3 4 5 "
     ]
    }
   ],
   "source": [
    "#執行5次\n",
    "#列印出1~5\n",
    "#for\n",
    "\n",
    "for i in range(1,6):\n",
    "    print (i,end=' ')"
   ]
  },
  {
   "cell_type": "code",
   "execution_count": 5,
   "metadata": {},
   "outputs": [
    {
     "name": "stdout",
     "output_type": "stream",
     "text": [
      "恭喜！已經存夠了，存了6個月的總存款為37316元\n"
     ]
    }
   ],
   "source": [
    "#執行5次\n",
    "#列印出1~5\n",
    "#while（不明確知道執行次數）\n",
    "#小名想要存錢買一輛機車，機車每輛30000元，他將每月存的錢輸入，當存款族購買機車時就會顯示訊息告知。\n",
    "\n",
    "moto_price = 30000\n",
    "deposit = 0\n",
    "month = 0\n",
    "\n",
    "while deposit < 30000:\n",
    "    month += 1\n",
    "    savings = int(input(f\"請輸入第{month}個月份的存款：\"))\n",
    "    deposit += savings\n",
    "\n",
    "print(f\"恭喜！已經存夠了，存了{month}個月的總存款為{deposit}元\")"
   ]
  },
  {
   "cell_type": "code",
   "execution_count": 6,
   "metadata": {},
   "outputs": [
    {
     "name": "stdout",
     "output_type": "stream",
     "text": [
      "1\n",
      "2\n",
      "3\n",
      "4\n",
      "5\n"
     ]
    }
   ],
   "source": [
    "count = 1 \n",
    "while True: #無限迴圈\n",
    "    print(count)\n",
    "    count += 1\n",
    "    if count >5:\n",
    "        break #使用break跳出迴圈"
   ]
  },
  {
   "cell_type": "code",
   "execution_count": null,
   "metadata": {},
   "outputs": [],
   "source": [
    "moto_price = 30000\n",
    "deposit = 0\n",
    "month = 0\n",
    "\n",
    "while True:\n",
    "    month += 1\n",
    "    savings = int(input(f\"請輸入第{month}個月份的存款：\"))\n",
    "    deposit += savings\n",
    "    if deposit >= 30000:\n",
    "        break\n",
    "\n",
    "print(f\"恭喜！已經存夠了，存了{month}個月的總存款為{deposit}元\")"
   ]
  },
  {
   "cell_type": "code",
   "execution_count": null,
   "metadata": {},
   "outputs": [],
   "source": [
    "#請設計一個程式，讓使用者輸入數值，只有加總正偶數值，如果是負數則結束程式。\n",
    "\n",
    "sum = 0\n",
    "num = 0\n",
    "\n",
    "while True:\n",
    "    input_value = int(input(f\"請輸入第{num+1}個數：\"))\n",
    "    if input_value <0:\n",
    "        break\n",
    "    elif input_value % 2 == 0:\n",
    "        sum += input_value\n",
    "    num += 1\n",
    "    \n",
    "\n",
    "print(f\"輸入的次數是{num}，所有輸入的正偶數和是{sum}\")"
   ]
  },
  {
   "cell_type": "code",
   "execution_count": 8,
   "metadata": {},
   "outputs": [
    {
     "name": "stdout",
     "output_type": "stream",
     "text": [
      "輸入的次數是4，所有輸入的正偶數和是6\n"
     ]
    }
   ],
   "source": [
    "sum = 0\n",
    "num = 0\n",
    "\n",
    "while True:\n",
    "    input_value = int(input(f\"請輸入第{num+1}個數：\"))\n",
    "    if input_value <0:\n",
    "        break\n",
    "    num += 1\n",
    "    if input_value % 2 == 1:\n",
    "        continue\n",
    "    sum += input_value\n",
    "\n",
    "print(f\"輸入的次數是{num}，所有輸入的正偶數和是{sum}\")"
   ]
  }
 ],
 "metadata": {
  "kernelspec": {
   "display_name": "Python 3",
   "language": "python",
   "name": "python3"
  },
  "language_info": {
   "codemirror_mode": {
    "name": "ipython",
    "version": 3
   },
   "file_extension": ".py",
   "mimetype": "text/x-python",
   "name": "python",
   "nbconvert_exporter": "python",
   "pygments_lexer": "ipython3",
   "version": "3.10.12"
  },
  "orig_nbformat": 4
 },
 "nbformat": 4,
 "nbformat_minor": 2
}
