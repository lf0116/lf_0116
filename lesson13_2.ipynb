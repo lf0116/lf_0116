{
 "cells": [
  {
   "cell_type": "code",
   "execution_count": 3,
   "metadata": {},
   "outputs": [],
   "source": [
    "class Student:\n",
    "    def __init__(self, name:str, chinese:int, english:int, math:int):\n",
    "        #實體的attribute\n",
    "        self.name = name\n",
    "        self.chinese = chinese\n",
    "        self.english = english\n",
    "        self.math = math\n",
    "    \n",
    "    #實體方法method\n",
    "    def total(self)->int:\n",
    "        return self.chinese + self.english + self.math\n",
    "\n",
    "    #建立property -> 類似method,沒有參數, 一定傳出一個值,不用()\n",
    "    @property\n",
    "    def average(self) ->float:\n",
    "        return self.total() / 3.0\n",
    "    \n",
    "    def __repr__(self):\n",
    "        return f'我是student實體，我的name:{self.name}'"
   ]
  },
  {
   "cell_type": "code",
   "execution_count": 4,
   "metadata": {},
   "outputs": [
    {
     "data": {
      "text/plain": [
       "('徐國堂', 78, 69, 92)"
      ]
     },
     "metadata": {},
     "output_type": "display_data"
    },
    {
     "data": {
      "text/plain": [
       "(239, 79.66666666666667)"
      ]
     },
     "metadata": {},
     "output_type": "display_data"
    },
    {
     "name": "stdout",
     "output_type": "stream",
     "text": [
      "我是student實體，我的name:徐國堂\n"
     ]
    }
   ],
   "source": [
    "stu1 = Student(\"徐國堂\",78, 69,92)\n",
    "display((stu1.name, stu1.chinese, stu1.english, stu1.math))\n",
    "display((stu1.total(), stu1.average))\n",
    "print(stu1)"
   ]
  },
  {
   "cell_type": "code",
   "execution_count": 5,
   "metadata": {},
   "outputs": [
    {
     "data": {
      "text/plain": [
       "('張XX', 86, 65, 91)"
      ]
     },
     "metadata": {},
     "output_type": "display_data"
    },
    {
     "data": {
      "text/plain": [
       "(242, 80.66666666666667)"
      ]
     },
     "metadata": {},
     "output_type": "display_data"
    },
    {
     "name": "stdout",
     "output_type": "stream",
     "text": [
      "我是student實體，我的name:張XX\n"
     ]
    }
   ],
   "source": [
    "stu2 = Student(name = \"張XX\",chinese = 86, english = 65,math = 91)\n",
    "display((stu2.name, stu2.chinese, stu2.english, stu2.math))\n",
    "display((stu2.total(), stu2.average))\n",
    "print(stu2)"
   ]
  },
  {
   "cell_type": "code",
   "execution_count": 6,
   "metadata": {},
   "outputs": [
    {
     "data": {
      "text/plain": [
       "('林XX', 92, 89, 71)"
      ]
     },
     "metadata": {},
     "output_type": "display_data"
    },
    {
     "data": {
      "text/plain": [
       "(252, 84.0)"
      ]
     },
     "metadata": {},
     "output_type": "display_data"
    },
    {
     "name": "stdout",
     "output_type": "stream",
     "text": [
      "我是student實體，我的name:林XX\n"
     ]
    }
   ],
   "source": [
    "stu3 = Student(name = \"林XX\", english = 89, chinese = 92, math = 71)\n",
    "display((stu3.name, stu3.chinese, stu3.english, stu3.math))\n",
    "display((stu3.total(), stu3.average))\n",
    "print(stu3)"
   ]
  }
 ],
 "metadata": {
  "kernelspec": {
   "display_name": "Python 3",
   "language": "python",
   "name": "python3"
  },
  "language_info": {
   "codemirror_mode": {
    "name": "ipython",
    "version": 3
   },
   "file_extension": ".py",
   "mimetype": "text/x-python",
   "name": "python",
   "nbconvert_exporter": "python",
   "pygments_lexer": "ipython3",
   "version": "3.10.13"
  }
 },
 "nbformat": 4,
 "nbformat_minor": 2
}
