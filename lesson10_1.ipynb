{
 "cells": [
  {
   "cell_type": "code",
   "execution_count": null,
   "metadata": {},
   "outputs": [],
   "source": [
    "with open(\"names.txt\",encoding = \"utf-8\") as file:\n",
    "    names = file.read()\n",
    "\n",
    "names_list = names.split('\\n')\n",
    "for name in names_list:\n",
    "    print(name)"
   ]
  },
  {
   "cell_type": "code",
   "execution_count": 6,
   "metadata": {},
   "outputs": [
    {
     "data": {
      "text/plain": [
       "(['陳怡伶', '馮芳如', '蒙淑惠', '張軒宸', '陳向愛'], ['李淑芳', '謝南慧', '趙家豪', '龐皓芳', '張彥博'], 299)"
      ]
     },
     "execution_count": 6,
     "metadata": {},
     "output_type": "execute_result"
    }
   ],
   "source": [
    "names_list[:5], names_list[-5:], len(names_list)"
   ]
  },
  {
   "cell_type": "code",
   "execution_count": null,
   "metadata": {},
   "outputs": [],
   "source": [
    "with open(\"names.txt\", encoding = \"utf-8\") as file:\n",
    "    names_list = []\n",
    "    for line in file:\n",
    "        names_list.append(line[:3])\n",
    "\n",
    "file.closed\n",
    "names_list"
   ]
  },
  {
   "cell_type": "code",
   "execution_count": null,
   "metadata": {},
   "outputs": [],
   "source": [
    "import random\n",
    "first_name = input(\"請輸入您的姓氏：\")\n",
    "count = int(input(\"請輸入您要的筆數：\"))\n",
    "random_names = random.choices(names_list, k = count)\n",
    "for name in random_names:\n",
    "    print(first_name + name[-2:])"
   ]
  },
  {
   "cell_type": "code",
   "execution_count": null,
   "metadata": {},
   "outputs": [],
   "source": [
    "import random\n",
    "\n",
    "def allNames() -> list:\n",
    "    names_list = []\n",
    "    with open(\"names.txt\", encoding = \"utf-8\") as file:\n",
    "        for line in file:\n",
    "            names_list.append(line[:3])\n",
    "    return names_list\n",
    "\n",
    "print(\"======名字產生器======\\n\\n\")\n",
    "\n",
    "while(True):\n",
    "    names_list = allNames()\n",
    "    first_name = input(\"請輸入您的姓氏：\")\n",
    "    count = int(input(\"請輸入您要的筆數：\"))\n",
    "    random_names = random.choices(names_list, k = count)\n",
    "    for name in random_names:\n",
    "        print(first_name + name[-2:])\n",
    "\n",
    "    again = input(\"您還要繼續嗎？(y,n)\")\n",
    "    if again.lower() == \"n\":\n",
    "        break\n",
    "\n",
    "print(\"系統結束\")"
   ]
  }
 ],
 "metadata": {
  "kernelspec": {
   "display_name": "Python 3",
   "language": "python",
   "name": "python3"
  },
  "language_info": {
   "codemirror_mode": {
    "name": "ipython",
    "version": 3
   },
   "file_extension": ".py",
   "mimetype": "text/x-python",
   "name": "python",
   "nbconvert_exporter": "python",
   "pygments_lexer": "ipython3",
   "version": "undefined.undefined.undefined"
  },
  "orig_nbformat": 4
 },
 "nbformat": 4,
 "nbformat_minor": 2
}
