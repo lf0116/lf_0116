{
 "cells": [
  {
   "cell_type": "code",
   "execution_count": 2,
   "metadata": {},
   "outputs": [
    {
     "ename": "NameError",
     "evalue": "name '請輸入總分' is not defined",
     "output_type": "error",
     "traceback": [
      "\u001b[0;31m---------------------------------------------------------------------------\u001b[0m",
      "\u001b[0;31mNameError\u001b[0m                                 Traceback (most recent call last)",
      "Cell \u001b[0;32mIn[2], line 25\u001b[0m\n\u001b[1;32m     23\u001b[0m \u001b[38;5;28msum\u001b[39m \u001b[38;5;241m=\u001b[39m \u001b[38;5;241m0\u001b[39m\n\u001b[1;32m     24\u001b[0m A \u001b[38;5;241m=\u001b[39m \u001b[38;5;28meval\u001b[39m(\u001b[38;5;28minput\u001b[39m(\u001b[38;5;124m\"\u001b[39m\u001b[38;5;124m請問想測驗總題數\u001b[39m\u001b[38;5;124m\"\u001b[39m))\n\u001b[0;32m---> 25\u001b[0m B \u001b[38;5;241m=\u001b[39m \u001b[38;5;28;43meval\u001b[39;49m\u001b[43m(\u001b[49m\u001b[38;5;124;43m\"\u001b[39;49m\u001b[38;5;124;43m請輸入總分(輸入空白鍵預設為100分)\u001b[39;49m\u001b[38;5;124;43m\"\u001b[39;49m\u001b[43m)\u001b[49m\n\u001b[1;32m     27\u001b[0m \u001b[38;5;28;01mif\u001b[39;00m B\u001b[38;5;241m==\u001b[39m\u001b[38;5;124m\"\u001b[39m\u001b[38;5;124m\"\u001b[39m \u001b[38;5;129;01mor\u001b[39;00m B\u001b[38;5;241m==\u001b[39m\u001b[38;5;124m\"\u001b[39m\u001b[38;5;124m   \u001b[39m\u001b[38;5;124m\"\u001b[39m:\n\u001b[1;32m     28\u001b[0m     B\u001b[38;5;241m=\u001b[39m\u001b[38;5;241m100\u001b[39m\n",
      "File \u001b[0;32m<string>:1\u001b[0m\n",
      "\u001b[0;31mNameError\u001b[0m: name '請輸入總分' is not defined"
     ]
    }
   ],
   "source": [
    "import random\n",
    "\n",
    "def add(n1, n2):\n",
    "    A = n1=n2\n",
    "    return A\n",
    "\n",
    "def sub(n1, n2):\n",
    "    A = n1-n2\n",
    "    return A\n",
    "\n",
    "def mlt(n1, n2):\n",
    "    A = n1*n2\n",
    "    return A\n",
    "\n",
    "def div(n1, n2):\n",
    "    A = n1/n2\n",
    "    B = n1//n2\n",
    "    C = n1%n2\n",
    "    return A, B, C\n",
    "\n",
    "\n",
    "T = 1\n",
    "sum = 0\n",
    "A = eval(input(\"請問想測驗總題數\"))\n",
    "B = eval(\"請輸入總分(輸入空白鍵預設為100分)\")\n",
    "\n",
    "if B==\"\" or B==\"   \":\n",
    "    B=100\n",
    "    print(f\"預設總分為{B}分，每題{B/A}分\")\n",
    "\n",
    "while T <= A:\n",
    "    print(\"請選擇欲測驗計算模式：\")\n",
    "    print(\"加法add請輸入(a 或 A)\")\n",
    "    print(\"減法sub請輸入(s 或 S)\")\n",
    "    print(\"乘法mlt請輸入(m 或 M)\")\n",
    "    print(\"除法div請輸入(d 或 D)\")\n",
    "    print(\"中途終止Exit請輸入(e 或 E)\")\n",
    "    s = input(\"請選擇：\")\n",
    "    n1 = random.randint(1,10)\n",
    "    n2 = random.randint(1,10)\n",
    "\n",
    "    if s==\"s\" or s==\"S\":\n",
    "        anst = add(n1,n2)\n",
    "        print(f\"第{T:2d}題\")\n",
    "        ans = eval(input(f\"{n1}+{n2}=\"))\n",
    "        if ans==add(n1,n2):\n",
    "            print(\"答對了！\")\n",
    "            sum = sum+1\n",
    "        else:\n",
    "            print(f\"答錯了！……本題答案{n1+n2}\")\n",
    "\n",
    "    if s==\"s\" or s==\"S\":\n",
    "        anst = sub(n1,n2)\n",
    "        print(f\"第{T:2d}題\")\n",
    "        ans = eval(input(f\"{n1}+{n2}=\"))\n",
    "        if ans==sub(n1,n2):\n",
    "            print(\"答對了！\")\n",
    "            sum = sum+1\n",
    "        else:\n",
    "            print(f\"答錯了！……本題答案{n1+n2}\")\n",
    "    if s ==\"Q\" or s==\"q\":\n",
    "        print(\"程式結束！\")\n",
    "        break\n",
    "    T = T+1\n",
    "print(f\"總測驗題數；{A}，實際測驗{T-1}題，答對題數{sum}題，總分：{(B/A)*sum}分\")"
   ]
  }
 ],
 "metadata": {
  "kernelspec": {
   "display_name": "Python 3",
   "language": "python",
   "name": "python3"
  },
  "language_info": {
   "codemirror_mode": {
    "name": "ipython",
    "version": 3
   },
   "file_extension": ".py",
   "mimetype": "text/x-python",
   "name": "python",
   "nbconvert_exporter": "python",
   "pygments_lexer": "ipython3",
   "version": "3.10.14"
  }
 },
 "nbformat": 4,
 "nbformat_minor": 2
}
