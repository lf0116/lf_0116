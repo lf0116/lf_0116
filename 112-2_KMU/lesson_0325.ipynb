{
 "cells": [
  {
   "cell_type": "code",
   "execution_count": 2,
   "metadata": {},
   "outputs": [
    {
     "name": "stdout",
     "output_type": "stream",
     "text": [
      "2\n",
      "14\n",
      "12\n"
     ]
    }
   ],
   "source": [
    "print(10 & 6)\n",
    "print(10 | 6)\n",
    "print(10 ^ 6)\n",
    "\n",
    "# 00001010 ->11110101\n",
    "# 00000110 ->11111001\n",
    "# or -> 00001110"
   ]
  },
  {
   "cell_type": "code",
   "execution_count": 6,
   "metadata": {},
   "outputs": [
    {
     "data": {
      "text/plain": [
       "0"
      ]
     },
     "execution_count": 6,
     "metadata": {},
     "output_type": "execute_result"
    }
   ],
   "source": [
    "1 << 3\n",
    "# 00000001 -> 00000010 -> 00000100 -> 00001000\n",
    "10 >> 4\n",
    "# 00001010 -> 00000101 -> 00000010 -> 00000001 -> 00000000"
   ]
  },
  {
   "cell_type": "code",
   "execution_count": null,
   "metadata": {},
   "outputs": [],
   "source": [
    "#二進制binaty(0bxxxxxxxxx)轉十進制\n",
    "print(\"0b11111111=\", 0b11111111, \"=\", bin(255))\n",
    "#八進制octal(0Oxxxxxxxxx)轉十進制\n",
    "print()"
   ]
  },
  {
   "cell_type": "markdown",
   "metadata": {},
   "source": [
    "## 1.輸出\n",
    "### print(syntax) :print out function\n",
    "### syntax:print(data1, data2, item1, .......,value, sep=\"\", end=\"\\n\")"
   ]
  },
  {
   "cell_type": "code",
   "execution_count": 1,
   "metadata": {},
   "outputs": [
    {
     "name": "stdout",
     "output_type": "stream",
     "text": [
      "I'm a student.\n",
      "I'm a student.\n"
     ]
    }
   ],
   "source": [
    "print(\"I'm a student.\")\n",
    "print('I\\'m a student.')"
   ]
  },
  {
   "cell_type": "code",
   "execution_count": 2,
   "metadata": {},
   "outputs": [
    {
     "name": "stdout",
     "output_type": "stream",
     "text": [
      "1231456789012314567890123145678901231456789012314567890123145678901231456789012314567890\n",
      "Today is a good day. \n",
      "yes.\n",
      "yes.y is a good day. \n",
      "Good news!\t I am...\n"
     ]
    }
   ],
   "source": [
    "print(\"1231456789012314567890123145678901231456789012314567890123145678901231456789012314567890\")\n",
    "print(\"Today is a good day. \\nyes.\") #換行\n",
    "print(\"Today is a good day. \\ryes.\") #取代\n",
    "print(\"Good news!\\t I am...\") #tab,全形兩格"
   ]
  },
  {
   "cell_type": "code",
   "execution_count": 6,
   "metadata": {},
   "outputs": [
    {
     "name": "stdout",
     "output_type": "stream",
     "text": [
      "12 12 Kaohsiung 1 2 3 4 5\n",
      "12 12 Kaohsiung 1 2 3 4 5=?\n",
      "12*12*Kaohsiung*1*2*3*4*5\n",
      "1+2+3+4+5+6+7+8+9+10=\n",
      "1+2+3+4+5+6+7+8+9+10=55.0\n"
     ]
    }
   ],
   "source": [
    "print(12,\"12\", 'Kaohsiung',1,2,3,4,5)\n",
    "print(12,\"12\", 'Kaohsiung',1,2,3,4,5, end=\"=?\\n\")\n",
    "print(12,\"12\",'Kaohsiung',1,2,3,4,5, sep=\"*\")\n",
    "print(\"1+2+3+4+5+6+7+8+9+10=\")\n",
    "print(1,2,3,4,5,6,7,8,9,10,sep = '+', end=\"=\")\n",
    "\n",
    "print((1+10)*10/2)"
   ]
  },
  {
   "cell_type": "code",
   "execution_count": 12,
   "metadata": {},
   "outputs": [
    {
     "name": "stdout",
     "output_type": "stream",
     "text": [
      "1231456789012314567890123145678901231456789012314567890123145678901231456789012314567890\n",
      "1234.13   \n",
      "   123.127\n",
      " 123.127  \n",
      "00000000123.124\n"
     ]
    }
   ],
   "source": [
    "print(\"1231456789012314567890123145678901231456789012314567890123145678901231456789012314567890\")\n",
    "print(format(1234.126, \"<10.2f\"))\n",
    "print(format(123.12689,\"-10.3f\"))\n",
    "print(format(123.12689,\"^10.3f\"))\n",
    "print(format(123.123689, \"015.3f\"))"
   ]
  },
  {
   "cell_type": "markdown",
   "metadata": {},
   "source": [
    "#### 2.%-%百分符號格式法\n",
    "##### \"...%spec......\"%(item)\n",
    "##### 1. 可以使用格式器的設定\n",
    "##### 2. 唯獨可置左右，置中對齊設定無法在此使用\n",
    "##### 3. 可以使用多個item在同一個print顯示"
   ]
  },
  {
   "cell_type": "code",
   "execution_count": 5,
   "metadata": {},
   "outputs": [
    {
     "name": "stdout",
     "output_type": "stream",
     "text": [
      "我是XXX,今年 20歲，身高175.3公分\n",
      "我是XXX,今年20 歲，身高175.3公分\n",
      "我是XXX,今年20 歲，身高175.3公分\n",
      "我是XXX,今年20 歲，身高175.3公分\n"
     ]
    }
   ],
   "source": [
    "print(\"我是XXX,今年%3d歲，身高%5.1f公分\"%(20, 175.3))\n",
    "print(\"我是XXX,今年{0:^3d}歲，身高{1:^5.1f}公分\".format(20, 175.3))\n",
    "A=20\n",
    "B=175.3\n",
    "print(\"我是XXX,今年{0:^3d}歲，身高{1:^5.1f}公分\".format(A, B))\n",
    "print(f\"我是XXX,今年{A:^3d}歲，身高{B:^5.1f}公分\")"
   ]
  },
  {
   "cell_type": "markdown",
   "metadata": {},
   "source": [
    "### 二元數值互換\n",
    "#### A=10\n",
    "#### B=20\n"
   ]
  },
  {
   "cell_type": "code",
   "execution_count": 8,
   "metadata": {},
   "outputs": [
    {
     "name": "stdout",
     "output_type": "stream",
     "text": [
      "A = 10, B = 20\n",
      "A = 20, B = 20\n"
     ]
    }
   ],
   "source": [
    "A = 10\n",
    "B = 20\n",
    "print(f\"A = {A}, B = {B}\")\n",
    "\"\"\"\n",
    "temp = A\n",
    "A = B\n",
    "B = temp\n",
    "\"\"\"\n",
    "A = B\n",
    "B = A\n",
    "print(f\"A = {A}, B = {B}\")"
   ]
  },
  {
   "cell_type": "markdown",
   "metadata": {},
   "source": [
    "### round(var.perc)"
   ]
  },
  {
   "cell_type": "code",
   "execution_count": 9,
   "metadata": {},
   "outputs": [
    {
     "name": "stdout",
     "output_type": "stream",
     "text": [
      "16\n"
     ]
    }
   ],
   "source": [
    "print(round(15.5))\n",
    "\n",
    "\"\"\"\n",
    ".5會不會進位會看離哪個偶數近\n",
    "例如 14.5 ->14(相較16，14.5離14更近)\n",
    "15.5 -> 16\n",
    "\"\"\"\n",
    "\n"
   ]
  }
 ],
 "metadata": {
  "kernelspec": {
   "display_name": "Python 3",
   "language": "python",
   "name": "python3"
  },
  "language_info": {
   "codemirror_mode": {
    "name": "ipython",
    "version": 3
   },
   "file_extension": ".py",
   "mimetype": "text/x-python",
   "name": "python",
   "nbconvert_exporter": "python",
   "pygments_lexer": "ipython3",
   "version": "3.10.13"
  }
 },
 "nbformat": 4,
 "nbformat_minor": 2
}
