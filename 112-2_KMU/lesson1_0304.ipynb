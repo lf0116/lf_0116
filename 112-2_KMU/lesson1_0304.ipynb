{
 "cells": [
  {
   "cell_type": "code",
   "execution_count": 1,
   "metadata": {},
   "outputs": [
    {
     "name": "stdout",
     "output_type": "stream",
     "text": [
      "S= 120\n"
     ]
    }
   ],
   "source": [
    "#Program start\n",
    "S = 0\n",
    "A = eval(input(\"請輸入一數為計算增值:\"))\n",
    "B = eval(input(\"請輸入一數為判斷終值:\"))\n",
    "\n",
    "#input()輸入默認為字串\n",
    "\n",
    "while S < B:\n",
    "  S = S+A\n",
    "\n",
    "print(\"S=\",S)"
   ]
  },
  {
   "cell_type": "code",
   "execution_count": 8,
   "metadata": {},
   "outputs": [
    {
     "name": "stdout",
     "output_type": "stream",
     "text": [
      "8\n",
      "16\n",
      "24\n",
      "32\n",
      "40\n",
      "48\n",
      "56\n",
      "64\n",
      "72\n",
      "80\n",
      "88\n",
      "96\n",
      "104\n",
      "最終值為： 104\n"
     ]
    }
   ],
   "source": [
    "S = 0\n",
    "A = eval(input(\"輸入一數為判斷終值:\"))\n",
    "B = eval(input(\"輸入一數為增值:\"))\n",
    "\n",
    "for i in range(1,101):\n",
    "  S=S+B\n",
    "  print(S)\n",
    "  if S>=A:\n",
    "    break\n",
    "print(\"最終值為：\",S)"
   ]
  },
  {
   "cell_type": "markdown",
   "metadata": {},
   "source": [
    "## python 程式特色\n",
    "### 1. #:單行註解 \"or'為字串, \":在程式起頭為多行註解\n",
    "### 2. \"\\\":若程式的敘述過常會造成編輯與辨識不易，可使用反斜線來切開敘述。但\"\\\"在程式碼中另有意義，為跳脫符號。\n",
    "### 3. \":\":用於區段運算，一個冒號對應一個縮排記號(tab)"
   ]
  },
  {
   "cell_type": "code",
   "execution_count": 12,
   "metadata": {},
   "outputs": [
    {
     "name": "stdout",
     "output_type": "stream",
     "text": [
      "123456789012345678901234567890123456789012345678901234567890\n",
      "-------------------------------------\n",
      "+++++++++++++++++++++++++++++++++++++++++++++++++++++++++++++++++++++++++++++++\n",
      "i= 1\n",
      "1*1=1 1*2=2 1*3=3 1*4=4 1*5=5 1*6=6 1*7=7 1*8=8 1*9=9 \n",
      "i= 2\n",
      "2*1=2 2*2=4 2*3=6 2*4=8 2*5=10 2*6=12 2*7=14 2*8=16 2*9=18 \n",
      "i= 3\n",
      "3*1=3 3*2=6 3*3=9 3*4=12 3*5=15 3*6=18 3*7=21 3*8=24 3*9=27 \n",
      "i= 4\n",
      "4*1=4 4*2=8 4*3=12 4*4=16 4*5=20 4*6=24 4*7=28 4*8=32 4*9=36 \n",
      "i= 5\n",
      "5*1=5 5*2=10 5*3=15 5*4=20 5*5=25 5*6=30 5*7=35 5*8=40 5*9=45 \n",
      "i= 6\n",
      "6*1=6 6*2=12 6*3=18 6*4=24 6*5=30 6*6=36 6*7=42 6*8=48 6*9=54 \n",
      "i= 7\n",
      "7*1=7 7*2=14 7*3=21 7*4=28 7*5=35 7*6=42 7*7=49 7*8=56 7*9=63 \n",
      "i= 8\n",
      "8*1=8 8*2=16 8*3=24 8*4=32 8*5=40 8*6=48 8*7=56 8*8=64 8*9=72 \n",
      "i= 9\n",
      "9*1=9 9*2=18 9*3=27 9*4=36 9*5=45 9*6=54 9*7=63 9*8=72 9*9=81 \n"
     ]
    }
   ],
   "source": [
    "'''\n",
    "橘色為多行註解段\n",
    "三個引號所圍成之區段可進行文字輸入\n",
    "不會因換行而產生錯誤\n",
    "但多行註解僅在 程式起頭 有效\n",
    "\n",
    "'''\n",
    "\n",
    "#綠色段為單行註解\n",
    "print(\"123456789012345678901234567890123456789012345678901234567890\")\n",
    "print(\"-------------------------------------\")\n",
    "print(\"+++++++++++++++++++++++++++++++++++++++++\\\n",
    "++++++++++++++++++++++++++++++++++++++\")\n",
    "\n",
    "#縮排與區段\n",
    "\n",
    "for i in range(1, 10, 1): \n",
    "    print(\"i=\",i) #第一個縮排區段\n",
    "    for j in range(1, 10, 1):\n",
    "        print(f\"{i}*{j}={i*j}\", end=\" \") #第二個縮排區段\n",
    "    print()"
   ]
  },
  {
   "cell_type": "code",
   "execution_count": 7,
   "metadata": {},
   "outputs": [
    {
     "name": "stdout",
     "output_type": "stream",
     "text": [
      "預借款金額： 10000\n",
      "還款期數： 120\n",
      "本利和： 12000.0 元\n"
     ]
    }
   ],
   "source": [
    "M = eval(input(\"請輸入預借款金額：\"))\n",
    "T = eval(input(\"請輸入還款年期：\"))\n",
    "S = 0\n",
    "P = 0.02\n",
    "interest = str(input(\"請輸入借款方式（單利、複利)：\"))\n",
    "\n",
    "if interest == \"單利\":\n",
    "    S = M*(1+P/12*(T*12))\n",
    "elif interest == \"複利\":\n",
    "    S = M*(1+P/12)**(T*12)\n",
    "else:\n",
    "    print(\"輸入錯誤\")\n",
    "print(\"預借款金額：\", M)\n",
    "print(\"還款期數：\", T*12)\n",
    "print(\"本利和：\", S, \"元\")"
   ]
  },
  {
   "cell_type": "code",
   "execution_count": 12,
   "metadata": {},
   "outputs": [
    {
     "name": "stdout",
     "output_type": "stream",
     "text": [
      "攝氏100度 = 華氏212.0度\n"
     ]
    }
   ],
   "source": [
    "T = eval(input(\"請輸入溫度:\"))\n",
    "label = str(input(\"請輸入溫標單位(c,f):\"))\n",
    "T_final = 0\n",
    "\n",
    "if label == \"c\":\n",
    "    T_final = T*9/5 + 32\n",
    "    print(f\"攝氏{T}度 = 華氏{T_final}度\")\n",
    "elif label == \"f\" :\n",
    "    T_final = (T-32)*5/9\n",
    "    print(f\"華氏{T}度 = 攝氏{T_final}度\")\n",
    "else:\n",
    "    print(\"輸入錯誤，程式結束\")"
   ]
  },
  {
   "cell_type": "code",
   "execution_count": 2,
   "metadata": {},
   "outputs": [
    {
     "name": "stdout",
     "output_type": "stream",
     "text": [
      "預借款金額：100000\n",
      "還款年期：10\n",
      "單利本利和：120000.0\n",
      "複利本利和：121899.44199947573\n"
     ]
    }
   ],
   "source": [
    "m = eval(input(\"請輸入預借款金額：\"))\n",
    "t = eval(input(\"請輸入還款年期：\"))\n",
    "sp = 0\n",
    "cp = 0\n",
    "\n",
    "sp = m*(1+0.02*t)\n",
    "cp = m*(1+0.02)**t\n",
    "\n",
    "print(f\"預借款金額：{m}\")\n",
    "print(f\"還款年期：{t}\")\n",
    "print(f\"單利本利和：{sp}\")\n",
    "print(f\"複利本利和：{cp}\")"
   ]
  }
 ],
 "metadata": {
  "kernelspec": {
   "display_name": "Python 3",
   "language": "python",
   "name": "python3"
  },
  "language_info": {
   "codemirror_mode": {
    "name": "ipython",
    "version": 3
   },
   "file_extension": ".py",
   "mimetype": "text/x-python",
   "name": "python",
   "nbconvert_exporter": "python",
   "pygments_lexer": "ipython3",
   "version": "3.10.13"
  }
 },
 "nbformat": 4,
 "nbformat_minor": 2
}
