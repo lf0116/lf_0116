{
 "cells": [
  {
   "cell_type": "code",
   "execution_count": 2,
   "metadata": {},
   "outputs": [
    {
     "name": "stdout",
     "output_type": "stream",
     "text": [
      "梯形的面積：2822.40平方公分\n"
     ]
    }
   ],
   "source": [
    "#請使用者輸入梯形的上底、下底及高，程式會計算梯形的面積。\n",
    "top = float(input(\"請輸入梯形的上底（公分）：\"))\n",
    "bottom = float(input(\"請輸入梯形的下底（公分）：\"))\n",
    "height = float(input(\"請輸入梯形的高（公分）：\"))\n",
    "\n",
    "area = (top + bottom) * height / 2\n",
    "#print(\"梯形的面積：\",round(area, ndigits=2),\"平方公分\")\n",
    "print(f\"梯形的面積：{area:.2f}平方公分\")"
   ]
  },
  {
   "cell_type": "code",
   "execution_count": 1,
   "metadata": {},
   "outputs": [
    {
     "name": "stdout",
     "output_type": "stream",
     "text": [
      "我有3個蘋果，5個橘子，共有8個水果。\n"
     ]
    }
   ],
   "source": [
    "#字串插補\n",
    "#example\n",
    "\n",
    "apple = 3\n",
    "orange = 5\n",
    "print(f\"我有{apple}個蘋果，{orange}個橘子，共有{apple + orange}個水果。\")"
   ]
  }
 ],
 "metadata": {
  "kernelspec": {
   "display_name": "Python 3",
   "language": "python",
   "name": "python3"
  },
  "language_info": {
   "codemirror_mode": {
    "name": "ipython",
    "version": 3
   },
   "file_extension": ".py",
   "mimetype": "text/x-python",
   "name": "python",
   "nbconvert_exporter": "python",
   "pygments_lexer": "ipython3",
   "version": "3.10.12"
  },
  "orig_nbformat": 4
 },
 "nbformat": 4,
 "nbformat_minor": 2
}
