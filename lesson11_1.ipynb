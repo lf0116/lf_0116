{
 "cells": [
  {
   "cell_type": "code",
   "execution_count": 7,
   "metadata": {},
   "outputs": [
    {
     "data": {
      "text/plain": [
       "[['王品星', 92, 87, 91, 82, 96],\n",
       " ['吳麗卿', 73, 64, 62, 70, 91],\n",
       " ['簡美君', 88, 94, 50, 64, 61],\n",
       " ['黃佩芬', 73, 88, 78, 69, 84],\n",
       " ['程玫靖', 98, 53, 93, 66, 81],\n",
       " ['元延辛', 86, 83, 76, 60, 59],\n",
       " ['鞠冠宇', 72, 55, 61, 85, 86],\n",
       " ['張俊傑', 63, 95, 50, 99, 93],\n",
       " ['劉佳佩', 100, 57, 51, 80, 71],\n",
       " ['林柏洋', 65, 88, 97, 70, 95],\n",
       " ['陳建豪', 81, 79, 81, 89, 85],\n",
       " ['陳淑萍', 99, 93, 56, 57, 100],\n",
       " ['蔡偉成', 81, 96, 80, 82, 65],\n",
       " ['鄧亭聿', 81, 79, 98, 53, 93],\n",
       " ['劉依婷', 55, 82, 59, 82, 65],\n",
       " ['王志謙', 66, 74, 51, 62, 50],\n",
       " ['胡姿婷', 86, 56, 55, 77, 70],\n",
       " ['林清英', 91, 63, 100, 62, 57],\n",
       " ['陳文賢', 57, 88, 82, 80, 93],\n",
       " ['張俊傑', 63, 50, 51, 58, 90]]"
      ]
     },
     "execution_count": 7,
     "metadata": {},
     "output_type": "execute_result"
    }
   ],
   "source": [
    "import random\n",
    "\n",
    "def get_score() -> list:\n",
    "    score = []\n",
    "\n",
    "    for i in range(5):\n",
    "        score.append(random.randint(50,100))\n",
    "    return score\n",
    "\n",
    "nums_int = int(input(\"請輸入學生數：\"))\n",
    "#取得30個名字\n",
    "with open(\"names.txt\", encoding = 'utf-8', newline = '' ) as file:\n",
    "    names_str = file.read()\n",
    "    all_names_list = names_str.split(sep = \"\\n\")\n",
    "    names_list = random.choices(all_names_list, k = nums_int) #取出一定數量的姓名\n",
    "\n",
    "students = []\n",
    "for i in range(nums_int):   #_為省略運算子\n",
    "    scores = get_score()\n",
    "    new_list = [names_list[i]]  + scores\n",
    "    students.append(new_list)\n",
    "\n",
    "students"
   ]
  }
 ],
 "metadata": {
  "kernelspec": {
   "display_name": "Python 3",
   "language": "python",
   "name": "python3"
  },
  "language_info": {
   "codemirror_mode": {
    "name": "ipython",
    "version": 3
   },
   "file_extension": ".py",
   "mimetype": "text/x-python",
   "name": "python",
   "nbconvert_exporter": "python",
   "pygments_lexer": "ipython3",
   "version": "3.10.12"
  },
  "orig_nbformat": 4
 },
 "nbformat": 4,
 "nbformat_minor": 2
}
