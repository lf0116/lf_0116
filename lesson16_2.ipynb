{
 "cells": [
  {
   "cell_type": "code",
   "execution_count": 8,
   "metadata": {},
   "outputs": [
    {
     "data": {
      "text/plain": [
       "統編\n",
       "99633047             大新餐盒食品工廠\n",
       "99633103          巧口樂實業股份有限公司\n",
       "99633162    永信藥品工業股份有限公司台中幼獅廠\n",
       "99633182           潭陽產業股份有限公司\n",
       "99633204     台中縣外埔鄉農會碾米工廠土城分廠\n",
       "                  ...        \n",
       "T6601068         宜農生物科技食品有限公司\n",
       "T6601107                德成企業社\n",
       "T6601245             宥青國際有限公司\n",
       "T6601276           嘉盛肉品企業有限公司\n",
       "T6601294             超農實業有限公司\n",
       "Name: 台中市食品工廠統編, Length: 683, dtype: object"
      ]
     },
     "execution_count": 8,
     "metadata": {},
     "output_type": "execute_result"
    }
   ],
   "source": [
    "import csv\n",
    "import pandas as pd\n",
    "with open('臺中市食品工廠(修).csv', mode = 'r', encoding = 'utf-8', newline = '' ) as file:\n",
    "    csv_reader = csv.reader(file)\n",
    "    next(csv_reader)\n",
    "    #for row in csv_reader:\n",
    "        #print(row[3], row[2])\n",
    "    \n",
    "    sdata = {row[3]:row[2] for row in csv_reader}\n",
    "\n",
    "stores = pd.Series(sdata)\n",
    "stores.name = \"台中市食品工廠統編\"\n",
    "stores.index.name = \"統編\"\n",
    "stores"
   ]
  }
 ],
 "metadata": {
  "kernelspec": {
   "display_name": "Python 3",
   "language": "python",
   "name": "python3"
  },
  "language_info": {
   "codemirror_mode": {
    "name": "ipython",
    "version": 3
   },
   "file_extension": ".py",
   "mimetype": "text/x-python",
   "name": "python",
   "nbconvert_exporter": "python",
   "pygments_lexer": "ipython3",
   "version": "3.10.13"
  }
 },
 "nbformat": 4,
 "nbformat_minor": 2
}
