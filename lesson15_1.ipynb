{
 "cells": [
  {
   "cell_type": "code",
   "execution_count": 4,
   "metadata": {},
   "outputs": [
    {
     "data": {
      "text/plain": [
       "[3, 7, 11, 15, 19]"
      ]
     },
     "execution_count": 4,
     "metadata": {},
     "output_type": "execute_result"
    }
   ],
   "source": [
    "#建立list\n",
    "\n",
    "a = [1, 3, 5, 7, 9]\n",
    "a*2\n",
    "\n",
    "\n",
    "b = [2, 4, 6, 8, 10]\n",
    "a+b\n",
    "\n",
    "result = []\n",
    "for i in range(5):\n",
    "    result.append(a[i] + b[i])\n",
    "\n",
    "result\n",
    "\n",
    "#in list calculation, for in logic is required."
   ]
  },
  {
   "cell_type": "code",
   "execution_count": 4,
   "metadata": {},
   "outputs": [
    {
     "data": {
      "text/plain": [
       "array([ 3,  7, 11, 15, 19])"
      ]
     },
     "execution_count": 4,
     "metadata": {},
     "output_type": "execute_result"
    }
   ],
   "source": [
    "import numpy as np\n",
    "#透過list建立ndArray\n",
    "\n",
    "\n",
    "a_array = np.array([1, 3, 5, 7, 9])\n",
    "a_array*2\n",
    "#可做陣列運算\n",
    "\n",
    "b_array = np.array([2, 4, 6, 8, 10])\n",
    "a_array + b_array\n"
   ]
  },
  {
   "cell_type": "code",
   "execution_count": 5,
   "metadata": {},
   "outputs": [
    {
     "data": {
      "text/plain": [
       "[66, 60, 98, 95, 57]"
      ]
     },
     "execution_count": 5,
     "metadata": {},
     "output_type": "execute_result"
    }
   ],
   "source": [
    "#使用python建立亂數\n",
    "import random\n",
    "\n",
    "[random.randint(50,100) for _ in range(5)]"
   ]
  },
  {
   "cell_type": "code",
   "execution_count": 7,
   "metadata": {},
   "outputs": [
    {
     "data": {
      "text/plain": [
       "array([64, 83, 66, 72, 77])"
      ]
     },
     "execution_count": 7,
     "metadata": {},
     "output_type": "execute_result"
    }
   ],
   "source": [
    "import numpy as np\n",
    "np.random.randint(50, high=100, size = 5)"
   ]
  },
  {
   "cell_type": "code",
   "execution_count": 6,
   "metadata": {},
   "outputs": [
    {
     "data": {
      "text/plain": [
       "array([[98, 91, 58, 91, 70],\n",
       "       [66, 72, 89, 92, 60],\n",
       "       [67, 78, 78, 58, 94],\n",
       "       [85, 72, 89, 65, 68],\n",
       "       [73, 91, 74, 76, 59],\n",
       "       [59, 91, 76, 64, 68],\n",
       "       [80, 59, 64, 61, 89],\n",
       "       [95, 75, 93, 61, 96],\n",
       "       [53, 87, 52, 75, 85],\n",
       "       [98, 51, 57, 85, 90],\n",
       "       [88, 73, 95, 98, 73],\n",
       "       [86, 98, 81, 50, 52],\n",
       "       [71, 69, 77, 88, 79],\n",
       "       [54, 63, 81, 74, 54],\n",
       "       [55, 55, 58, 53, 63],\n",
       "       [56, 97, 64, 70, 97],\n",
       "       [55, 92, 58, 87, 87],\n",
       "       [85, 99, 68, 99, 95],\n",
       "       [82, 98, 93, 98, 76],\n",
       "       [89, 65, 55, 66, 64],\n",
       "       [76, 54, 93, 72, 87],\n",
       "       [85, 67, 58, 75, 97],\n",
       "       [78, 91, 61, 78, 78],\n",
       "       [84, 50, 99, 54, 92],\n",
       "       [76, 64, 50, 70, 60],\n",
       "       [67, 52, 67, 87, 63],\n",
       "       [93, 81, 87, 67, 59],\n",
       "       [66, 57, 70, 89, 53],\n",
       "       [62, 75, 78, 98, 85],\n",
       "       [97, 74, 99, 74, 89],\n",
       "       [53, 95, 97, 95, 51],\n",
       "       [94, 51, 68, 73, 87],\n",
       "       [86, 68, 58, 50, 90],\n",
       "       [68, 71, 93, 69, 89],\n",
       "       [56, 87, 97, 79, 75],\n",
       "       [92, 81, 77, 88, 51],\n",
       "       [85, 53, 86, 84, 58],\n",
       "       [65, 69, 72, 66, 96],\n",
       "       [91, 51, 93, 57, 56],\n",
       "       [59, 62, 90, 62, 71],\n",
       "       [79, 81, 80, 97, 71],\n",
       "       [65, 50, 99, 94, 79],\n",
       "       [51, 93, 61, 97, 95],\n",
       "       [66, 50, 74, 76, 59],\n",
       "       [81, 99, 56, 72, 71],\n",
       "       [64, 61, 59, 62, 87],\n",
       "       [78, 85, 77, 88, 55],\n",
       "       [89, 66, 61, 76, 83],\n",
       "       [68, 71, 88, 54, 53],\n",
       "       [81, 82, 86, 74, 87]])"
      ]
     },
     "execution_count": 6,
     "metadata": {},
     "output_type": "execute_result"
    }
   ],
   "source": [
    "import numpy as np\n",
    "np.random.randint(50, high=100, size = (50,5))"
   ]
  }
 ],
 "metadata": {
  "kernelspec": {
   "display_name": "Python 3",
   "language": "python",
   "name": "python3"
  },
  "language_info": {
   "codemirror_mode": {
    "name": "ipython",
    "version": 3
   },
   "file_extension": ".py",
   "mimetype": "text/x-python",
   "name": "python",
   "nbconvert_exporter": "python",
   "pygments_lexer": "ipython3",
   "version": "3.10.13"
  }
 },
 "nbformat": 4,
 "nbformat_minor": 2
}
