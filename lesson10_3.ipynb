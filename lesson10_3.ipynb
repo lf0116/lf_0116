{
 "cells": [
  {
   "cell_type": "code",
   "execution_count": 1,
   "metadata": {},
   "outputs": [
    {
     "data": {
      "text/plain": [
       "([79, 92, 68, 75, 65], [78, 95, 68, 72, 65], [72, 91, 69, 71, 72])"
      ]
     },
     "execution_count": 1,
     "metadata": {},
     "output_type": "execute_result"
    }
   ],
   "source": [
    "#二維陣列\n",
    "\n",
    "students = [[79, 92, 68, 75, 65], #0\n",
    "            [78, 95, 68, 72, 65], #1\n",
    "            [72, 91, 69, 71, 72]] #2\n",
    "\n",
    "students[0], students[1], students[2]"
   ]
  },
  {
   "cell_type": "code",
   "execution_count": 2,
   "metadata": {},
   "outputs": [
    {
     "name": "stdout",
     "output_type": "stream",
     "text": [
      "[79, 92, 68, 75, 65]\n",
      "[78, 95, 68, 72, 65]\n",
      "[72, 91, 69, 71, 72]\n"
     ]
    }
   ],
   "source": [
    "for student in students:\n",
    "    print(student)"
   ]
  },
  {
   "cell_type": "code",
   "execution_count": 3,
   "metadata": {},
   "outputs": [
    {
     "data": {
      "text/plain": [
       "[[83, 90, 91, 81, 87],\n",
       " [63, 75, 63, 90, 99],\n",
       " [52, 60, 99, 73, 64],\n",
       " [92, 85, 95, 99, 59],\n",
       " [79, 89, 96, 70, 94],\n",
       " [51, 85, 54, 52, 92],\n",
       " [50, 100, 57, 100, 88],\n",
       " [93, 51, 83, 60, 83],\n",
       " [100, 69, 76, 56, 70],\n",
       " [62, 100, 51, 65, 52],\n",
       " [72, 52, 78, 79, 92],\n",
       " [64, 94, 83, 83, 54],\n",
       " [100, 89, 82, 80, 98],\n",
       " [81, 52, 63, 68, 73],\n",
       " [69, 71, 71, 95, 75],\n",
       " [50, 87, 84, 94, 97],\n",
       " [50, 80, 82, 66, 53],\n",
       " [89, 96, 58, 84, 85],\n",
       " [65, 90, 79, 91, 61],\n",
       " [77, 83, 69, 76, 75],\n",
       " [63, 53, 87, 80, 53],\n",
       " [64, 99, 91, 50, 99],\n",
       " [81, 68, 93, 70, 99],\n",
       " [81, 97, 78, 100, 93],\n",
       " [89, 94, 68, 79, 96],\n",
       " [82, 54, 75, 88, 62],\n",
       " [99, 77, 58, 54, 60],\n",
       " [91, 93, 50, 85, 72],\n",
       " [98, 51, 82, 50, 74],\n",
       " [55, 67, 84, 89, 82],\n",
       " [94, 81, 95, 97, 51],\n",
       " [88, 51, 52, 61, 99],\n",
       " [77, 55, 98, 78, 78],\n",
       " [93, 95, 94, 62, 89],\n",
       " [61, 76, 53, 93, 78],\n",
       " [88, 55, 96, 57, 54],\n",
       " [82, 63, 67, 88, 100],\n",
       " [64, 96, 96, 63, 94],\n",
       " [79, 76, 75, 63, 66],\n",
       " [81, 64, 76, 88, 93],\n",
       " [68, 78, 87, 85, 55],\n",
       " [74, 97, 68, 88, 67],\n",
       " [59, 54, 50, 73, 83],\n",
       " [75, 80, 93, 82, 51],\n",
       " [62, 51, 74, 58, 96],\n",
       " [89, 70, 53, 65, 69],\n",
       " [87, 86, 67, 57, 90],\n",
       " [66, 77, 72, 99, 100],\n",
       " [64, 64, 56, 79, 96],\n",
       " [70, 53, 86, 100, 100]]"
      ]
     },
     "execution_count": 3,
     "metadata": {},
     "output_type": "execute_result"
    }
   ],
   "source": [
    "import random\n",
    "\n",
    "def get_score() -> list:\n",
    "    score = []\n",
    "\n",
    "    for i in range(5):\n",
    "        score.append(random.randint(50,100))\n",
    "    return score\n",
    "\n",
    "\n",
    "students = []\n",
    "for i in range(50):\n",
    "    scores = get_score()\n",
    "    students.append(scores)\n",
    "\n",
    "students"
   ]
  }
 ],
 "metadata": {
  "kernelspec": {
   "display_name": "Python 3",
   "language": "python",
   "name": "python3"
  },
  "language_info": {
   "codemirror_mode": {
    "name": "ipython",
    "version": 3
   },
   "file_extension": ".py",
   "mimetype": "text/x-python",
   "name": "python",
   "nbconvert_exporter": "python",
   "pygments_lexer": "ipython3",
   "version": "3.10.11"
  },
  "orig_nbformat": 4
 },
 "nbformat": 4,
 "nbformat_minor": 2
}
